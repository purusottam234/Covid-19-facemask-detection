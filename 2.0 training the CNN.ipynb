{
 "cells": [
  {
   "cell_type": "code",
   "execution_count": 1,
   "metadata": {},
   "outputs": [],
   "source": [
    "import numpy as np\n",
    "\n",
    "data=np.load('data.npy')\n",
    "target=np.load('target.npy')\n",
    "\n",
    "#loading the save numpy arrays in the previous code"
   ]
  },
  {
   "cell_type": "code",
   "execution_count": 2,
   "metadata": {},
   "outputs": [],
   "source": [
    "from keras.models import Sequential\n",
    "from keras.layers import Dense,Activation,Flatten,Dropout\n",
    "from keras.layers import Conv2D,MaxPooling2D\n",
    "from keras.callbacks import ModelCheckpoint\n",
    "\n",
    "model=Sequential()\n",
    "\n",
    "model.add(Conv2D(200,(3,3),input_shape=data.shape[1:]))\n",
    "model.add(Activation('relu'))\n",
    "model.add(MaxPooling2D(pool_size=(3,3)))\n",
    "#The first CNN layer followed by Relu and MaxPooling layers\n",
    "\n",
    "model.add(Conv2D(100,(3,3)))\n",
    "model.add(Activation('relu'))\n",
    "model.add(MaxPooling2D(pool_size=(2,2)))\n",
    "#The second convolution layer followed by Relu and MaxPooling layers\n",
    "\n",
    "model.add(Flatten())\n",
    "model.add(Dropout(0.5))\n",
    "#Flatten layer to stack the output convolutions from second convolution layer\n",
    "model.add(Dense(50,activation='relu'))\n",
    "#Dense layer of 64 neurons\n",
    "model.add(Dense(2,activation='softmax'))\n",
    "#The Final layer with two outputs for two categories\n",
    "\n",
    "model.compile(loss='categorical_crossentropy',optimizer='adam',metrics=['accuracy'])"
   ]
  },
  {
   "cell_type": "code",
   "execution_count": 3,
   "metadata": {},
   "outputs": [],
   "source": [
    "from sklearn.model_selection import train_test_split\n",
    "\n",
    "train_data,test_data,train_target,test_target=train_test_split(data,target,test_size=0.1)"
   ]
  },
  {
   "cell_type": "code",
   "execution_count": 4,
   "metadata": {},
   "outputs": [
    {
     "name": "stdout",
     "output_type": "stream",
     "text": [
      "Epoch 1/20\n",
      "31/31 [==============================] - ETA: 0s - loss: 0.6835 - accuracy: 0.5505INFO:tensorflow:Assets written to: model-001.model\\assets\n",
      "31/31 [==============================] - 22s 682ms/step - loss: 0.6835 - accuracy: 0.5505 - val_loss: 0.6044 - val_accuracy: 0.7419\n",
      "Epoch 2/20\n",
      "31/31 [==============================] - ETA: 0s - loss: 0.5556 - accuracy: 0.7303INFO:tensorflow:Assets written to: model-002.model\\assets\n",
      "31/31 [==============================] - 21s 690ms/step - loss: 0.5556 - accuracy: 0.7303 - val_loss: 0.4042 - val_accuracy: 0.8710\n",
      "Epoch 3/20\n",
      "31/31 [==============================] - ETA: 0s - loss: 0.3556 - accuracy: 0.8636INFO:tensorflow:Assets written to: model-003.model\\assets\n",
      "31/31 [==============================] - 20s 646ms/step - loss: 0.3556 - accuracy: 0.8636 - val_loss: 0.2451 - val_accuracy: 0.9153\n",
      "Epoch 4/20\n",
      "31/31 [==============================] - 20s 640ms/step - loss: 0.2450 - accuracy: 0.9081 - val_loss: 0.3221 - val_accuracy: 0.8589\n",
      "Epoch 5/20\n",
      "31/31 [==============================] - ETA: 0s - loss: 0.2201 - accuracy: 0.9111INFO:tensorflow:Assets written to: model-005.model\\assets\n",
      "31/31 [==============================] - 28s 915ms/step - loss: 0.2201 - accuracy: 0.9111 - val_loss: 0.1822 - val_accuracy: 0.9315\n",
      "Epoch 6/20\n",
      "31/31 [==============================] - ETA: 0s - loss: 0.1493 - accuracy: 0.9505INFO:tensorflow:Assets written to: model-006.model\\assets\n",
      "31/31 [==============================] - 26s 842ms/step - loss: 0.1493 - accuracy: 0.9505 - val_loss: 0.1818 - val_accuracy: 0.9274\n",
      "Epoch 7/20\n",
      "31/31 [==============================] - ETA: 0s - loss: 0.1127 - accuracy: 0.9626INFO:tensorflow:Assets written to: model-007.model\\assets\n",
      "31/31 [==============================] - 26s 827ms/step - loss: 0.1127 - accuracy: 0.9626 - val_loss: 0.1637 - val_accuracy: 0.9476\n",
      "Epoch 8/20\n",
      "31/31 [==============================] - ETA: 0s - loss: 0.1042 - accuracy: 0.9636INFO:tensorflow:Assets written to: model-008.model\\assets\n",
      "31/31 [==============================] - 26s 862ms/step - loss: 0.1042 - accuracy: 0.9636 - val_loss: 0.1495 - val_accuracy: 0.9556\n",
      "Epoch 9/20\n",
      "31/31 [==============================] - ETA: 0s - loss: 0.0738 - accuracy: 0.9808INFO:tensorflow:Assets written to: model-009.model\\assets\n",
      "31/31 [==============================] - 24s 776ms/step - loss: 0.0738 - accuracy: 0.9808 - val_loss: 0.1432 - val_accuracy: 0.9556\n",
      "Epoch 10/20\n",
      "31/31 [==============================] - ETA: 0s - loss: 0.0901 - accuracy: 0.9667INFO:tensorflow:Assets written to: model-010.model\\assets\n",
      "31/31 [==============================] - 25s 826ms/step - loss: 0.0901 - accuracy: 0.9667 - val_loss: 0.1411 - val_accuracy: 0.9597\n",
      "Epoch 11/20\n",
      "31/31 [==============================] - 23s 747ms/step - loss: 0.0634 - accuracy: 0.9788 - val_loss: 0.1493 - val_accuracy: 0.9476\n",
      "Epoch 12/20\n",
      "31/31 [==============================] - ETA: 0s - loss: 0.0490 - accuracy: 0.9838INFO:tensorflow:Assets written to: model-012.model\\assets\n",
      "31/31 [==============================] - 27s 882ms/step - loss: 0.0490 - accuracy: 0.9838 - val_loss: 0.1353 - val_accuracy: 0.9637\n",
      "Epoch 13/20\n",
      "31/31 [==============================] - 23s 736ms/step - loss: 0.0627 - accuracy: 0.9788 - val_loss: 0.2110 - val_accuracy: 0.9476\n",
      "Epoch 14/20\n",
      "31/31 [==============================] - 24s 788ms/step - loss: 0.1598 - accuracy: 0.9505 - val_loss: 0.2114 - val_accuracy: 0.9355\n",
      "Epoch 15/20\n",
      "31/31 [==============================] - 23s 738ms/step - loss: 0.0474 - accuracy: 0.9848 - val_loss: 0.1629 - val_accuracy: 0.9597\n",
      "Epoch 16/20\n",
      "31/31 [==============================] - 25s 798ms/step - loss: 0.0394 - accuracy: 0.9869 - val_loss: 0.1635 - val_accuracy: 0.9597\n",
      "Epoch 17/20\n",
      "31/31 [==============================] - 23s 738ms/step - loss: 0.0332 - accuracy: 0.9869 - val_loss: 0.1525 - val_accuracy: 0.9637\n",
      "Epoch 18/20\n",
      "31/31 [==============================] - 26s 835ms/step - loss: 0.0222 - accuracy: 0.9929 - val_loss: 0.1956 - val_accuracy: 0.9516\n",
      "Epoch 19/20\n",
      "31/31 [==============================] - 24s 777ms/step - loss: 0.0135 - accuracy: 0.9970 - val_loss: 0.2034 - val_accuracy: 0.9637\n",
      "Epoch 20/20\n",
      "31/31 [==============================] - 24s 773ms/step - loss: 0.0183 - accuracy: 0.9949 - val_loss: 0.1639 - val_accuracy: 0.9597\n"
     ]
    }
   ],
   "source": [
    "checkpoint = ModelCheckpoint('model-{epoch:03d}.model',monitor='val_loss',verbose=0,save_best_only=True,mode='auto')\n",
    "history=model.fit(train_data,train_target,epochs=20,callbacks=[checkpoint],validation_split=0.2)"
   ]
  },
  {
   "cell_type": "code",
   "execution_count": 5,
   "metadata": {},
   "outputs": [
    {
     "data": {
      "image/png": "[encoded data removed]",
      "text/plain": [
       "<Figure size 432x288 with 1 Axes>"
      ]
     },
     "metadata": {
      "needs_background": "light"
     },
     "output_type": "display_data"
    }
   ],
   "source": [
    "from matplotlib import pyplot as plt\n",
    "\n",
    "plt.plot(history.history['loss'],'r',label='training loss')\n",
    "plt.plot(history.history['val_loss'],label='validation loss')\n",
    "plt.xlabel('# epochs')\n",
    "plt.ylabel('loss')\n",
    "plt.legend()\n",
    "plt.show()"
   ]
  },
  {
   "cell_type": "code",
   "execution_count": 6,
   "metadata": {},
   "outputs": [
    {
     "data": {
      "image/png": "[encoded data removed]",
      "text/plain": [
       "<Figure size 432x288 with 1 Axes>"
      ]
     },
     "metadata": {
      "needs_background": "light"
     },
     "output_type": "display_data"
    }
   ],
   "source": [
    "plt.plot(history.history['accuracy'],'r',label='training accuracy')\n",
    "plt.plot(history.history['val_accuracy'],label='validation accuracy')\n",
    "plt.xlabel('# epochs')\n",
    "plt.ylabel('loss')\n",
    "plt.legend()\n",
    "plt.show()"
   ]
  },
  {
   "cell_type": "code",
   "execution_count": 7,
   "metadata": {},
   "outputs": [
    {
     "name": "stdout",
     "output_type": "stream",
     "text": [
      "5/5 [==============================] - 1s 140ms/step - loss: 0.0571 - accuracy: 0.9855\n",
      "[0.05709021911025047, 0.9855072498321533]\n"
     ]
    }
   ],
   "source": [
    "print(model.evaluate(test_data,test_target))"
   ]
  },
  {
   "cell_type": "code",
   "execution_count": 9,
   "metadata": {},
   "outputs": [],
   "source": [
    "prediction = (model.predict(test_data) > 0.5).astype(\"int32\")"
   ]
  },
  {
   "cell_type": "code",
   "execution_count": 15,
   "metadata": {},
   "outputs": [
    {
     "name": "stdout",
     "output_type": "stream",
     "text": [
      "              precision    recall  f1-score   support\n",
      "\n",
      "           0       0.98      0.98      0.98        57\n",
      "           1       0.99      0.99      0.99        81\n",
      "\n",
      "   micro avg       0.99      0.99      0.99       138\n",
      "   macro avg       0.99      0.99      0.99       138\n",
      "weighted avg       0.99      0.99      0.99       138\n",
      " samples avg       0.99      0.99      0.99       138\n",
      "\n",
      "[[56  1]\n",
      " [ 1 80]]\n"
     ]
    }
   ],
   "source": [
    "from sklearn.metrics import classification_report\n",
    "from sklearn.metrics import confusion_matrix\n",
    "print(classification_report(test_target, prediction))\n",
    "print(confusion_matrix(test_target.argmax(axis=1), prediction.argmax(axis=1)))"
   ]
  },
  {
   "cell_type": "code",
   "execution_count": null,
   "metadata": {},
   "outputs": [],
   "source": []
  },
  {
   "cell_type": "code",
   "execution_count": null,
   "metadata": {},
   "outputs": [],
   "source": []
  }
 ],
 "metadata": {
  "kernelspec": {
   "display_name": "Python 3 (ipykernel)",
   "language": "python",
   "name": "python3"
  },
  "language_info": {
   "codemirror_mode": {
    "name": "ipython",
    "version": 3
   },
   "file_extension": ".py",
   "mimetype": "text/x-python",
   "name": "python",
   "nbconvert_exporter": "python",
   "pygments_lexer": "ipython3",
   "version": "3.9.7"
  }
 },
 "nbformat": 4,
 "nbformat_minor": 2
}
